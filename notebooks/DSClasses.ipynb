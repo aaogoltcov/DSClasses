{
 "cells": [
  {
   "cell_type": "markdown",
   "metadata": {
    "collapsed": true,
    "pycharm": {
     "name": "#%% md\n"
    }
   },
   "source": [
    "# Задание 1 Напишите функцию, которая возвращает название валюты (поле ‘Name’) с максимальным значением курса с\n",
    "# помощью сервиса https://www.cbr-xml-daily.ru/daily_json.js"
   ]
  },
  {
   "cell_type": "code",
   "execution_count": 2,
   "metadata": {
    "pycharm": {
     "name": "#%%\n"
    }
   },
   "outputs": [
    {
     "name": "stdout",
     "output_type": "stream",
     "text": [
      "СДР (специальные права заимствования)\n"
     ]
    }
   ],
   "source": [
    "from pprint import pprint\n",
    "\n",
    "import requests\n",
    "\n",
    "FILE_PATH = 'https://www.cbr-xml-daily.ru/daily_json.js'\n",
    "\n",
    "\n",
    "def get_max_value_of_currency(path):\n",
    "    file = requests.get(path).json()\n",
    "    try:\n",
    "        dict_of_currencies = {item['Name']: item['Value'] for item in file['Valute'].values() if item}\n",
    "        max_value = max(dict_of_currencies.values())\n",
    "        return [key for key, value in dict_of_currencies.items() if value == max_value][0]\n",
    "    except KeyError:\n",
    "        return 'Что-то пошло не так...'\n",
    "\n",
    "\n",
    "print(get_max_value_of_currency(FILE_PATH))"
   ]
  },
  {
   "cell_type": "markdown",
   "metadata": {},
   "source": [
    "# Задание 2 Добавьте в класс Rate параметр diff (со значениями True или False), который в случае значения True в\n",
    "# методах eur и usd будет возвращать не курс валюты, а изменение по сравнению в прошлым значением. Считайте,\n",
    "# self.diff будет принимать значение True только при возврате значения курса. При отображении всей информации о\n",
    "# валюте он не используется."
   ]
  },
  {
   "cell_type": "code",
   "execution_count": 3,
   "metadata": {
    "pycharm": {
     "name": "#%%\n"
    }
   },
   "outputs": [
    {
     "name": "stdout",
     "output_type": "stream",
     "text": [
      "'Текущее значение: 84.261'\n",
      "'Текущее значение: 71.9196'\n",
      "'Разница в курсе: 0.49'\n",
      "'Разница в курсе: 0.33'\n",
      "'Такой валюты не существует!'\n",
      "'Такой валюты не существует!'\n"
     ]
    }
   ],
   "source": [
    "class Rate:\n",
    "    def __init__(self, path, diff=False):\n",
    "        self.file = requests.get(path).json()\n",
    "        self.diff = diff\n",
    "        self.error = 'Такой валюты не существует!'\n",
    "\n",
    "    def get_currency_info(self, currency):\n",
    "        try:\n",
    "            if self.diff:\n",
    "                return f\"Разница в курсе: {round(self.file['Valute'][currency]['Value'] - self.file['Valute'][currency]['Previous'], 2)}\"\n",
    "            else:\n",
    "                return f\"Текущее значение: {self.file['Valute'][currency]['Value']}\"\n",
    "        except KeyError:\n",
    "            return self.error\n",
    "\n",
    "\n",
    "current_value = Rate(FILE_PATH)\n",
    "pprint(current_value.get_currency_info(currency='EUR'))\n",
    "pprint(current_value.get_currency_info(currency='USD'))\n",
    "\n",
    "difference_value = Rate(FILE_PATH, diff=True)\n",
    "pprint(difference_value.get_currency_info(currency='EUR'))\n",
    "pprint(difference_value.get_currency_info(currency='USD'))\n",
    "\n",
    "exception_check = Rate(FILE_PATH)\n",
    "pprint(exception_check.get_currency_info(currency='EUR1'))\n",
    "pprint(exception_check.get_currency_info(currency='USD1'))"
   ]
  },
  {
   "cell_type": "markdown",
   "metadata": {},
   "source": [
    "# Задание 3 Напишите класс Designer, который учитывает количество международных премий. Подсказки в коде занятия в\n",
    "# разделе “Домашнее задание задача 3”.\n",
    "\n",
    "# Напишите класс Designer, который учитывает количество международных премий для дизайнеров (из презентации:\n",
    "# \"Повышение на 1 грейд за каждые 7 баллов. Получение международной премии – это +2 балла\"). Считайте, что при выходе\n",
    "# на работу сотрудник уже имеет две премии и их количество не меняется со стажем (конечно если хотите это можно\n",
    "# вручную менять). Выполните проверку для 20 аккредитаций дизайнера Елены.\n",
    "#\n",
    "# Для проверки используйте код:\n",
    "# elena = Designer('Елена', seniority=0, awards=2)\n",
    "# for i in range(20):\n",
    "#     elena.check_if_it_is_time_for_upgrade()"
   ]
  },
  {
   "cell_type": "code",
   "execution_count": 4,
   "metadata": {
    "pycharm": {
     "name": "#%%\n"
    }
   },
   "outputs": [
    {
     "name": "stdout",
     "output_type": "stream",
     "text": [
      "0 - Пока рановато менять грейд...\n",
      "1 - Пока рановато менять грейд...\n",
      "2 - Пора менять грейд, новый грейд: 1\n",
      "3 - Пока рановато менять грейд...\n",
      "4 - Пока рановато менять грейд...\n",
      "5 - Пока рановато менять грейд...\n",
      "6 - Пока рановато менять грейд...\n",
      "7 - Пока рановато менять грейд...\n",
      "8 - Пока рановато менять грейд...\n",
      "9 - Пора менять грейд, новый грейд: 2\n",
      "10 - Пока рановато менять грейд...\n",
      "11 - Пока рановато менять грейд...\n",
      "12 - Пока рановато менять грейд...\n",
      "13 - Пока рановато менять грейд...\n",
      "14 - Пока рановато менять грейд...\n",
      "15 - Пока рановато менять грейд...\n",
      "16 - Пора менять грейд, новый грейд: 3\n",
      "17 - Пока рановато менять грейд...\n",
      "18 - Пока рановато менять грейд...\n",
      "19 - Пока рановато менять грейд...\n"
     ]
    }
   ],
   "source": [
    "class Designer:\n",
    "    def __init__(self, name, **kwargs):\n",
    "        try:\n",
    "            self.name = name\n",
    "            self.kwargs = kwargs\n",
    "            self.seniority = self.kwargs['seniority']\n",
    "            self.awards = self.kwargs['awards']\n",
    "            self.score = self.seniority * 7 + self.awards * 2\n",
    "        except KeyError:\n",
    "            raise Exception('Не указаны обязательные параметры...')\n",
    "\n",
    "    def get_current_score(self):\n",
    "        return self.score\n",
    "\n",
    "    def check_if_it_is_time_for_upgrade(self):\n",
    "        self.score += 1\n",
    "        calc_seniority = (self.score // 7)\n",
    "        if calc_seniority != self.seniority:\n",
    "            self.seniority = calc_seniority\n",
    "            return f'Пора менять грейд, новый грейд: {self.seniority}'\n",
    "        else:\n",
    "            return f'Пока рановато менять грейд...'\n",
    "\n",
    "\n",
    "elena = Designer('Елена', seniority=0, awards=2)\n",
    "for i in range(20):\n",
    "    print(i, '-', elena.check_if_it_is_time_for_upgrade())"
   ]
  },
  {
   "cell_type": "code",
   "execution_count": null,
   "outputs": [],
   "source": [],
   "metadata": {
    "collapsed": false,
    "pycharm": {
     "name": "#%%\n"
    }
   }
  },
  {
   "cell_type": "code",
   "execution_count": null,
   "metadata": {},
   "outputs": [],
   "source": []
  }
 ],
 "metadata": {
  "kernelspec": {
   "display_name": "Python 3",
   "language": "python",
   "name": "python3"
  },
  "language_info": {
   "codemirror_mode": {
    "name": "ipython",
    "version": 3
   },
   "file_extension": ".py",
   "mimetype": "text/x-python",
   "name": "python",
   "nbconvert_exporter": "python",
   "pygments_lexer": "ipython3",
   "version": "3.7.6"
  }
 },
 "nbformat": 4,
 "nbformat_minor": 1
}